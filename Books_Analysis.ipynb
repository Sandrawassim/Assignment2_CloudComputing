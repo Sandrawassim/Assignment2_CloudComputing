{
 "cells": [
  {
   "cell_type": "code",
   "execution_count": 1,
   "metadata": {
    "id": "bEa2jeQK9HrE"
   },
   "outputs": [],
   "source": [
    "import numpy as np\n",
    "import pandas as pd\n",
    "from matplotlib import pyplot as plt\n",
    "import seaborn as sns\n"
   ]
  },
  {
   "cell_type": "code",
   "execution_count": 2,
   "metadata": {
    "colab": {
     "base_uri": "https://localhost:8080/",
     "height": 686
    },
    "id": "8UXuKZnx9MlR",
    "outputId": "e54346bb-629d-4a72-d745-caa116b656ef"
   },
   "outputs": [
    {
     "data": {
      "text/html": [
       "<div>\n",
       "<style scoped>\n",
       "    .dataframe tbody tr th:only-of-type {\n",
       "        vertical-align: middle;\n",
       "    }\n",
       "\n",
       "    .dataframe tbody tr th {\n",
       "        vertical-align: top;\n",
       "    }\n",
       "\n",
       "    .dataframe thead th {\n",
       "        text-align: right;\n",
       "    }\n",
       "</style>\n",
       "<table border=\"1\" class=\"dataframe\">\n",
       "  <thead>\n",
       "    <tr style=\"text-align: right;\">\n",
       "      <th></th>\n",
       "      <th>goodreads_book_id</th>\n",
       "      <th>best_book_id</th>\n",
       "      <th>work_id</th>\n",
       "      <th>books_count</th>\n",
       "      <th>isbn</th>\n",
       "      <th>isbn13</th>\n",
       "      <th>authors</th>\n",
       "      <th>original_publication_year</th>\n",
       "      <th>original_title</th>\n",
       "      <th>title</th>\n",
       "      <th>...</th>\n",
       "      <th>ratings_count</th>\n",
       "      <th>work_ratings_count</th>\n",
       "      <th>work_text_reviews_count</th>\n",
       "      <th>ratings_1</th>\n",
       "      <th>ratings_2</th>\n",
       "      <th>ratings_3</th>\n",
       "      <th>ratings_4</th>\n",
       "      <th>ratings_5</th>\n",
       "      <th>image_url</th>\n",
       "      <th>small_image_url</th>\n",
       "    </tr>\n",
       "    <tr>\n",
       "      <th>book_id</th>\n",
       "      <th></th>\n",
       "      <th></th>\n",
       "      <th></th>\n",
       "      <th></th>\n",
       "      <th></th>\n",
       "      <th></th>\n",
       "      <th></th>\n",
       "      <th></th>\n",
       "      <th></th>\n",
       "      <th></th>\n",
       "      <th></th>\n",
       "      <th></th>\n",
       "      <th></th>\n",
       "      <th></th>\n",
       "      <th></th>\n",
       "      <th></th>\n",
       "      <th></th>\n",
       "      <th></th>\n",
       "      <th></th>\n",
       "      <th></th>\n",
       "      <th></th>\n",
       "    </tr>\n",
       "  </thead>\n",
       "  <tbody>\n",
       "    <tr>\n",
       "      <th>1</th>\n",
       "      <td>2767052</td>\n",
       "      <td>2767052</td>\n",
       "      <td>2792775</td>\n",
       "      <td>272</td>\n",
       "      <td>439023483</td>\n",
       "      <td>9.780439e+12</td>\n",
       "      <td>Suzanne Collins</td>\n",
       "      <td>2008.0</td>\n",
       "      <td>The Hunger Games</td>\n",
       "      <td>The Hunger Games (The Hunger Games, #1)</td>\n",
       "      <td>...</td>\n",
       "      <td>4780653</td>\n",
       "      <td>4942365</td>\n",
       "      <td>155254</td>\n",
       "      <td>66715</td>\n",
       "      <td>127936</td>\n",
       "      <td>560092</td>\n",
       "      <td>1481305</td>\n",
       "      <td>2706317</td>\n",
       "      <td>https://images.gr-assets.com/books/1447303603m...</td>\n",
       "      <td>https://images.gr-assets.com/books/1447303603s...</td>\n",
       "    </tr>\n",
       "    <tr>\n",
       "      <th>2</th>\n",
       "      <td>3</td>\n",
       "      <td>3</td>\n",
       "      <td>4640799</td>\n",
       "      <td>491</td>\n",
       "      <td>439554934</td>\n",
       "      <td>9.780440e+12</td>\n",
       "      <td>J.K. Rowling, Mary GrandPré</td>\n",
       "      <td>1997.0</td>\n",
       "      <td>Harry Potter and the Philosopher's Stone</td>\n",
       "      <td>Harry Potter and the Sorcerer's Stone (Harry P...</td>\n",
       "      <td>...</td>\n",
       "      <td>4602479</td>\n",
       "      <td>4800065</td>\n",
       "      <td>75867</td>\n",
       "      <td>75504</td>\n",
       "      <td>101676</td>\n",
       "      <td>455024</td>\n",
       "      <td>1156318</td>\n",
       "      <td>3011543</td>\n",
       "      <td>https://images.gr-assets.com/books/1474154022m...</td>\n",
       "      <td>https://images.gr-assets.com/books/1474154022s...</td>\n",
       "    </tr>\n",
       "    <tr>\n",
       "      <th>3</th>\n",
       "      <td>41865</td>\n",
       "      <td>41865</td>\n",
       "      <td>3212258</td>\n",
       "      <td>226</td>\n",
       "      <td>316015849</td>\n",
       "      <td>9.780316e+12</td>\n",
       "      <td>Stephenie Meyer</td>\n",
       "      <td>2005.0</td>\n",
       "      <td>Twilight</td>\n",
       "      <td>Twilight (Twilight, #1)</td>\n",
       "      <td>...</td>\n",
       "      <td>3866839</td>\n",
       "      <td>3916824</td>\n",
       "      <td>95009</td>\n",
       "      <td>456191</td>\n",
       "      <td>436802</td>\n",
       "      <td>793319</td>\n",
       "      <td>875073</td>\n",
       "      <td>1355439</td>\n",
       "      <td>https://images.gr-assets.com/books/1361039443m...</td>\n",
       "      <td>https://images.gr-assets.com/books/1361039443s...</td>\n",
       "    </tr>\n",
       "    <tr>\n",
       "      <th>6</th>\n",
       "      <td>11870085</td>\n",
       "      <td>11870085</td>\n",
       "      <td>16827462</td>\n",
       "      <td>226</td>\n",
       "      <td>525478817</td>\n",
       "      <td>9.780525e+12</td>\n",
       "      <td>John Green</td>\n",
       "      <td>2012.0</td>\n",
       "      <td>The Fault in Our Stars</td>\n",
       "      <td>The Fault in Our Stars</td>\n",
       "      <td>...</td>\n",
       "      <td>2346404</td>\n",
       "      <td>2478609</td>\n",
       "      <td>140739</td>\n",
       "      <td>47994</td>\n",
       "      <td>92723</td>\n",
       "      <td>327550</td>\n",
       "      <td>698471</td>\n",
       "      <td>1311871</td>\n",
       "      <td>https://images.gr-assets.com/books/1360206420m...</td>\n",
       "      <td>https://images.gr-assets.com/books/1360206420s...</td>\n",
       "    </tr>\n",
       "    <tr>\n",
       "      <th>12</th>\n",
       "      <td>13335037</td>\n",
       "      <td>13335037</td>\n",
       "      <td>13155899</td>\n",
       "      <td>210</td>\n",
       "      <td>62024035</td>\n",
       "      <td>9.780062e+12</td>\n",
       "      <td>Veronica Roth</td>\n",
       "      <td>2011.0</td>\n",
       "      <td>Divergent</td>\n",
       "      <td>Divergent (Divergent, #1)</td>\n",
       "      <td>...</td>\n",
       "      <td>1903563</td>\n",
       "      <td>2216814</td>\n",
       "      <td>101023</td>\n",
       "      <td>36315</td>\n",
       "      <td>82870</td>\n",
       "      <td>310297</td>\n",
       "      <td>673028</td>\n",
       "      <td>1114304</td>\n",
       "      <td>https://images.gr-assets.com/books/1328559506m...</td>\n",
       "      <td>https://images.gr-assets.com/books/1328559506s...</td>\n",
       "    </tr>\n",
       "  </tbody>\n",
       "</table>\n",
       "<p>5 rows × 22 columns</p>\n",
       "</div>"
      ],
      "text/plain": [
       "         goodreads_book_id  best_book_id   work_id  books_count       isbn  \\\n",
       "book_id                                                                      \n",
       "1                  2767052       2767052   2792775          272  439023483   \n",
       "2                        3             3   4640799          491  439554934   \n",
       "3                    41865         41865   3212258          226  316015849   \n",
       "6                 11870085      11870085  16827462          226  525478817   \n",
       "12                13335037      13335037  13155899          210   62024035   \n",
       "\n",
       "               isbn13                      authors  original_publication_year  \\\n",
       "book_id                                                                         \n",
       "1        9.780439e+12              Suzanne Collins                     2008.0   \n",
       "2        9.780440e+12  J.K. Rowling, Mary GrandPré                     1997.0   \n",
       "3        9.780316e+12              Stephenie Meyer                     2005.0   \n",
       "6        9.780525e+12                   John Green                     2012.0   \n",
       "12       9.780062e+12                Veronica Roth                     2011.0   \n",
       "\n",
       "                                   original_title  \\\n",
       "book_id                                             \n",
       "1                                The Hunger Games   \n",
       "2        Harry Potter and the Philosopher's Stone   \n",
       "3                                        Twilight   \n",
       "6                          The Fault in Our Stars   \n",
       "12                                      Divergent   \n",
       "\n",
       "                                                     title  ... ratings_count  \\\n",
       "book_id                                                     ...                 \n",
       "1                  The Hunger Games (The Hunger Games, #1)  ...       4780653   \n",
       "2        Harry Potter and the Sorcerer's Stone (Harry P...  ...       4602479   \n",
       "3                                  Twilight (Twilight, #1)  ...       3866839   \n",
       "6                                   The Fault in Our Stars  ...       2346404   \n",
       "12                               Divergent (Divergent, #1)  ...       1903563   \n",
       "\n",
       "         work_ratings_count  work_text_reviews_count  ratings_1  ratings_2  \\\n",
       "book_id                                                                      \n",
       "1                   4942365                   155254      66715     127936   \n",
       "2                   4800065                    75867      75504     101676   \n",
       "3                   3916824                    95009     456191     436802   \n",
       "6                   2478609                   140739      47994      92723   \n",
       "12                  2216814                   101023      36315      82870   \n",
       "\n",
       "         ratings_3  ratings_4  ratings_5  \\\n",
       "book_id                                    \n",
       "1           560092    1481305    2706317   \n",
       "2           455024    1156318    3011543   \n",
       "3           793319     875073    1355439   \n",
       "6           327550     698471    1311871   \n",
       "12          310297     673028    1114304   \n",
       "\n",
       "                                                 image_url  \\\n",
       "book_id                                                      \n",
       "1        https://images.gr-assets.com/books/1447303603m...   \n",
       "2        https://images.gr-assets.com/books/1474154022m...   \n",
       "3        https://images.gr-assets.com/books/1361039443m...   \n",
       "6        https://images.gr-assets.com/books/1360206420m...   \n",
       "12       https://images.gr-assets.com/books/1328559506m...   \n",
       "\n",
       "                                           small_image_url  \n",
       "book_id                                                     \n",
       "1        https://images.gr-assets.com/books/1447303603s...  \n",
       "2        https://images.gr-assets.com/books/1474154022s...  \n",
       "3        https://images.gr-assets.com/books/1361039443s...  \n",
       "6        https://images.gr-assets.com/books/1360206420s...  \n",
       "12       https://images.gr-assets.com/books/1328559506s...  \n",
       "\n",
       "[5 rows x 22 columns]"
      ]
     },
     "execution_count": 2,
     "metadata": {},
     "output_type": "execute_result"
    }
   ],
   "source": [
    "df=pd.read_csv('books.csv',index_col='book_id')\n",
    "df.head()"
   ]
  },
  {
   "cell_type": "code",
   "execution_count": 3,
   "metadata": {
    "colab": {
     "base_uri": "https://localhost:8080/"
    },
    "id": "NTDZmb9_9MoY",
    "outputId": "859be499-e857-4631-c22b-96821c57b0cf"
   },
   "outputs": [
    {
     "data": {
      "text/plain": [
       "(1354, 22)"
      ]
     },
     "execution_count": 3,
     "metadata": {},
     "output_type": "execute_result"
    }
   ],
   "source": [
    "df.shape"
   ]
  },
  {
   "cell_type": "code",
   "execution_count": 4,
   "metadata": {
    "colab": {
     "base_uri": "https://localhost:8080/"
    },
    "id": "WVaThCV09Mrt",
    "outputId": "f5e1aeb7-4614-40e9-aa62-93785f5b0a23"
   },
   "outputs": [
    {
     "name": "stdout",
     "output_type": "stream",
     "text": [
      "<class 'pandas.core.frame.DataFrame'>\n",
      "Index: 1354 entries, 1 to 9955\n",
      "Data columns (total 22 columns):\n",
      " #   Column                     Non-Null Count  Dtype  \n",
      "---  ------                     --------------  -----  \n",
      " 0   goodreads_book_id          1354 non-null   int64  \n",
      " 1   best_book_id               1354 non-null   int64  \n",
      " 2   work_id                    1354 non-null   int64  \n",
      " 3   books_count                1354 non-null   int64  \n",
      " 4   isbn                       1302 non-null   object \n",
      " 5   isbn13                     1310 non-null   float64\n",
      " 6   authors                    1354 non-null   object \n",
      " 7   original_publication_year  1351 non-null   float64\n",
      " 8   original_title             1302 non-null   object \n",
      " 9   title                      1354 non-null   object \n",
      " 10  language_code              1245 non-null   object \n",
      " 11  average_rating             1354 non-null   float64\n",
      " 12  ratings_count              1354 non-null   int64  \n",
      " 13  work_ratings_count         1354 non-null   int64  \n",
      " 14  work_text_reviews_count    1354 non-null   int64  \n",
      " 15  ratings_1                  1354 non-null   int64  \n",
      " 16  ratings_2                  1354 non-null   int64  \n",
      " 17  ratings_3                  1354 non-null   int64  \n",
      " 18  ratings_4                  1354 non-null   int64  \n",
      " 19  ratings_5                  1354 non-null   int64  \n",
      " 20  image_url                  1354 non-null   object \n",
      " 21  small_image_url            1354 non-null   object \n",
      "dtypes: float64(3), int64(12), object(7)\n",
      "memory usage: 243.3+ KB\n"
     ]
    }
   ],
   "source": [
    "df.info()"
   ]
  },
  {
   "cell_type": "code",
   "execution_count": 5,
   "metadata": {
    "colab": {
     "base_uri": "https://localhost:8080/"
    },
    "id": "qjBJeD2N9g5Z",
    "outputId": "43b151fd-b36e-49f0-d733-985d4add2e79"
   },
   "outputs": [
    {
     "data": {
      "text/plain": [
       "goodreads_book_id              int64\n",
       "best_book_id                   int64\n",
       "work_id                        int64\n",
       "books_count                    int64\n",
       "isbn                          object\n",
       "isbn13                       float64\n",
       "authors                       object\n",
       "original_publication_year    float64\n",
       "original_title                object\n",
       "title                         object\n",
       "language_code                 object\n",
       "average_rating               float64\n",
       "ratings_count                  int64\n",
       "work_ratings_count             int64\n",
       "work_text_reviews_count        int64\n",
       "ratings_1                      int64\n",
       "ratings_2                      int64\n",
       "ratings_3                      int64\n",
       "ratings_4                      int64\n",
       "ratings_5                      int64\n",
       "image_url                     object\n",
       "small_image_url               object\n",
       "dtype: object"
      ]
     },
     "execution_count": 5,
     "metadata": {},
     "output_type": "execute_result"
    }
   ],
   "source": [
    "df.dtypes"
   ]
  },
  {
   "cell_type": "code",
   "execution_count": 6,
   "metadata": {
    "colab": {
     "base_uri": "https://localhost:8080/"
    },
    "id": "un07wyMK9g8L",
    "outputId": "a723c504-7764-473e-b6ca-c8aaf8a08ce2"
   },
   "outputs": [
    {
     "data": {
      "text/plain": [
       "goodreads_book_id              0\n",
       "best_book_id                   0\n",
       "work_id                        0\n",
       "books_count                    0\n",
       "isbn                          52\n",
       "isbn13                        44\n",
       "authors                        0\n",
       "original_publication_year      3\n",
       "original_title                52\n",
       "title                          0\n",
       "language_code                109\n",
       "average_rating                 0\n",
       "ratings_count                  0\n",
       "work_ratings_count             0\n",
       "work_text_reviews_count        0\n",
       "ratings_1                      0\n",
       "ratings_2                      0\n",
       "ratings_3                      0\n",
       "ratings_4                      0\n",
       "ratings_5                      0\n",
       "image_url                      0\n",
       "small_image_url                0\n",
       "dtype: int64"
      ]
     },
     "execution_count": 6,
     "metadata": {},
     "output_type": "execute_result"
    }
   ],
   "source": [
    "df.isnull().sum()"
   ]
  },
  {
   "cell_type": "code",
   "execution_count": 7,
   "metadata": {
    "colab": {
     "base_uri": "https://localhost:8080/"
    },
    "id": "Xnt0ynp09g_E",
    "outputId": "d0dbcfd6-284d-439a-d863-edf65657d10b"
   },
   "outputs": [
    {
     "data": {
      "text/plain": [
       "(1153, 22)"
      ]
     },
     "execution_count": 7,
     "metadata": {},
     "output_type": "execute_result"
    }
   ],
   "source": [
    "df.dropna(inplace= True)\n",
    "df.shape"
   ]
  },
  {
   "cell_type": "code",
   "execution_count": 8,
   "metadata": {
    "id": "ZN88-djE9hBy"
   },
   "outputs": [],
   "source": [
    "df['goodreads_book_id']=df['goodreads_book_id'].astype('object')\n",
    "df['best_book_id']=df['best_book_id'].astype('object')\n",
    "df['work_id']=df['work_id'].astype('object')\n",
    "df['original_publication_year']=df['original_publication_year'].astype('int64')"
   ]
  },
  {
   "cell_type": "code",
   "execution_count": 9,
   "metadata": {
    "colab": {
     "base_uri": "https://localhost:8080/"
    },
    "id": "kQilxj3a9hEo",
    "outputId": "e9b394bf-29de-4b77-c79b-daf35653119b"
   },
   "outputs": [
    {
     "data": {
      "text/plain": [
       "goodreads_book_id             object\n",
       "best_book_id                  object\n",
       "work_id                       object\n",
       "books_count                    int64\n",
       "isbn                          object\n",
       "isbn13                       float64\n",
       "authors                       object\n",
       "original_publication_year      int64\n",
       "original_title                object\n",
       "title                         object\n",
       "language_code                 object\n",
       "average_rating               float64\n",
       "ratings_count                  int64\n",
       "work_ratings_count             int64\n",
       "work_text_reviews_count        int64\n",
       "ratings_1                      int64\n",
       "ratings_2                      int64\n",
       "ratings_3                      int64\n",
       "ratings_4                      int64\n",
       "ratings_5                      int64\n",
       "image_url                     object\n",
       "small_image_url               object\n",
       "dtype: object"
      ]
     },
     "execution_count": 9,
     "metadata": {},
     "output_type": "execute_result"
    }
   ],
   "source": [
    "df.dtypes"
   ]
  },
  {
   "cell_type": "code",
   "execution_count": 10,
   "metadata": {
    "colab": {
     "base_uri": "https://localhost:8080/",
     "height": 320
    },
    "id": "9CWDXeZu9hHq",
    "outputId": "d70387af-6fbd-4ce1-a5df-0f229b2936a5"
   },
   "outputs": [
    {
     "data": {
      "text/html": [
       "<div>\n",
       "<style scoped>\n",
       "    .dataframe tbody tr th:only-of-type {\n",
       "        vertical-align: middle;\n",
       "    }\n",
       "\n",
       "    .dataframe tbody tr th {\n",
       "        vertical-align: top;\n",
       "    }\n",
       "\n",
       "    .dataframe thead th {\n",
       "        text-align: right;\n",
       "    }\n",
       "</style>\n",
       "<table border=\"1\" class=\"dataframe\">\n",
       "  <thead>\n",
       "    <tr style=\"text-align: right;\">\n",
       "      <th></th>\n",
       "      <th>books_count</th>\n",
       "      <th>isbn13</th>\n",
       "      <th>original_publication_year</th>\n",
       "      <th>average_rating</th>\n",
       "      <th>ratings_count</th>\n",
       "      <th>work_ratings_count</th>\n",
       "      <th>work_text_reviews_count</th>\n",
       "      <th>ratings_1</th>\n",
       "      <th>ratings_2</th>\n",
       "      <th>ratings_3</th>\n",
       "      <th>ratings_4</th>\n",
       "      <th>ratings_5</th>\n",
       "    </tr>\n",
       "  </thead>\n",
       "  <tbody>\n",
       "    <tr>\n",
       "      <th>count</th>\n",
       "      <td>1153.000000</td>\n",
       "      <td>1.153000e+03</td>\n",
       "      <td>1153.000000</td>\n",
       "      <td>1153.000000</td>\n",
       "      <td>1.153000e+03</td>\n",
       "      <td>1.153000e+03</td>\n",
       "      <td>1153.000000</td>\n",
       "      <td>1153.000000</td>\n",
       "      <td>1153.000000</td>\n",
       "      <td>1153.00000</td>\n",
       "      <td>1.153000e+03</td>\n",
       "      <td>1.153000e+03</td>\n",
       "    </tr>\n",
       "    <tr>\n",
       "      <th>mean</th>\n",
       "      <td>52.777103</td>\n",
       "      <td>9.780636e+12</td>\n",
       "      <td>2003.698179</td>\n",
       "      <td>3.992819</td>\n",
       "      <td>1.014850e+05</td>\n",
       "      <td>1.097655e+05</td>\n",
       "      <td>5621.572420</td>\n",
       "      <td>2555.634866</td>\n",
       "      <td>5540.813530</td>\n",
       "      <td>19310.74935</td>\n",
       "      <td>3.383617e+04</td>\n",
       "      <td>4.852212e+04</td>\n",
       "    </tr>\n",
       "    <tr>\n",
       "      <th>std</th>\n",
       "      <td>64.054893</td>\n",
       "      <td>5.826425e+08</td>\n",
       "      <td>15.992755</td>\n",
       "      <td>0.223829</td>\n",
       "      <td>3.095194e+05</td>\n",
       "      <td>3.258908e+05</td>\n",
       "      <td>11410.001335</td>\n",
       "      <td>14830.209633</td>\n",
       "      <td>17529.393371</td>\n",
       "      <td>46821.01928</td>\n",
       "      <td>9.073628e+04</td>\n",
       "      <td>1.738494e+05</td>\n",
       "    </tr>\n",
       "    <tr>\n",
       "      <th>min</th>\n",
       "      <td>2.000000</td>\n",
       "      <td>9.780007e+12</td>\n",
       "      <td>1871.000000</td>\n",
       "      <td>3.230000</td>\n",
       "      <td>8.861000e+03</td>\n",
       "      <td>1.025100e+04</td>\n",
       "      <td>112.000000</td>\n",
       "      <td>33.000000</td>\n",
       "      <td>133.000000</td>\n",
       "      <td>946.00000</td>\n",
       "      <td>2.425000e+03</td>\n",
       "      <td>2.005000e+03</td>\n",
       "    </tr>\n",
       "    <tr>\n",
       "      <th>25%</th>\n",
       "      <td>24.000000</td>\n",
       "      <td>9.780152e+12</td>\n",
       "      <td>2003.000000</td>\n",
       "      <td>3.840000</td>\n",
       "      <td>1.858300e+04</td>\n",
       "      <td>2.030900e+04</td>\n",
       "      <td>1327.000000</td>\n",
       "      <td>330.000000</td>\n",
       "      <td>1041.000000</td>\n",
       "      <td>4333.00000</td>\n",
       "      <td>6.875000e+03</td>\n",
       "      <td>7.268000e+03</td>\n",
       "    </tr>\n",
       "    <tr>\n",
       "      <th>50%</th>\n",
       "      <td>38.000000</td>\n",
       "      <td>9.780440e+12</td>\n",
       "      <td>2008.000000</td>\n",
       "      <td>4.000000</td>\n",
       "      <td>3.139500e+04</td>\n",
       "      <td>3.398500e+04</td>\n",
       "      <td>2441.000000</td>\n",
       "      <td>688.000000</td>\n",
       "      <td>1884.000000</td>\n",
       "      <td>7170.00000</td>\n",
       "      <td>1.131900e+04</td>\n",
       "      <td>1.272500e+04</td>\n",
       "    </tr>\n",
       "    <tr>\n",
       "      <th>75%</th>\n",
       "      <td>61.000000</td>\n",
       "      <td>9.780805e+12</td>\n",
       "      <td>2011.000000</td>\n",
       "      <td>4.150000</td>\n",
       "      <td>6.682300e+04</td>\n",
       "      <td>7.233900e+04</td>\n",
       "      <td>4973.000000</td>\n",
       "      <td>1505.000000</td>\n",
       "      <td>3945.000000</td>\n",
       "      <td>14260.00000</td>\n",
       "      <td>2.517700e+04</td>\n",
       "      <td>2.841800e+04</td>\n",
       "    </tr>\n",
       "    <tr>\n",
       "      <th>max</th>\n",
       "      <td>1314.000000</td>\n",
       "      <td>9.788424e+12</td>\n",
       "      <td>2017.000000</td>\n",
       "      <td>4.740000</td>\n",
       "      <td>4.780653e+06</td>\n",
       "      <td>4.942365e+06</td>\n",
       "      <td>155254.000000</td>\n",
       "      <td>456191.000000</td>\n",
       "      <td>436802.000000</td>\n",
       "      <td>793319.00000</td>\n",
       "      <td>1.481305e+06</td>\n",
       "      <td>3.011543e+06</td>\n",
       "    </tr>\n",
       "  </tbody>\n",
       "</table>\n",
       "</div>"
      ],
      "text/plain": [
       "       books_count        isbn13  original_publication_year  average_rating  \\\n",
       "count  1153.000000  1.153000e+03                1153.000000     1153.000000   \n",
       "mean     52.777103  9.780636e+12                2003.698179        3.992819   \n",
       "std      64.054893  5.826425e+08                  15.992755        0.223829   \n",
       "min       2.000000  9.780007e+12                1871.000000        3.230000   \n",
       "25%      24.000000  9.780152e+12                2003.000000        3.840000   \n",
       "50%      38.000000  9.780440e+12                2008.000000        4.000000   \n",
       "75%      61.000000  9.780805e+12                2011.000000        4.150000   \n",
       "max    1314.000000  9.788424e+12                2017.000000        4.740000   \n",
       "\n",
       "       ratings_count  work_ratings_count  work_text_reviews_count  \\\n",
       "count   1.153000e+03        1.153000e+03              1153.000000   \n",
       "mean    1.014850e+05        1.097655e+05              5621.572420   \n",
       "std     3.095194e+05        3.258908e+05             11410.001335   \n",
       "min     8.861000e+03        1.025100e+04               112.000000   \n",
       "25%     1.858300e+04        2.030900e+04              1327.000000   \n",
       "50%     3.139500e+04        3.398500e+04              2441.000000   \n",
       "75%     6.682300e+04        7.233900e+04              4973.000000   \n",
       "max     4.780653e+06        4.942365e+06            155254.000000   \n",
       "\n",
       "           ratings_1      ratings_2     ratings_3     ratings_4     ratings_5  \n",
       "count    1153.000000    1153.000000    1153.00000  1.153000e+03  1.153000e+03  \n",
       "mean     2555.634866    5540.813530   19310.74935  3.383617e+04  4.852212e+04  \n",
       "std     14830.209633   17529.393371   46821.01928  9.073628e+04  1.738494e+05  \n",
       "min        33.000000     133.000000     946.00000  2.425000e+03  2.005000e+03  \n",
       "25%       330.000000    1041.000000    4333.00000  6.875000e+03  7.268000e+03  \n",
       "50%       688.000000    1884.000000    7170.00000  1.131900e+04  1.272500e+04  \n",
       "75%      1505.000000    3945.000000   14260.00000  2.517700e+04  2.841800e+04  \n",
       "max    456191.000000  436802.000000  793319.00000  1.481305e+06  3.011543e+06  "
      ]
     },
     "execution_count": 10,
     "metadata": {},
     "output_type": "execute_result"
    }
   ],
   "source": [
    "df.describe()"
   ]
  },
  {
   "cell_type": "code",
   "execution_count": 11,
   "metadata": {
    "colab": {
     "base_uri": "https://localhost:8080/"
    },
    "id": "Fp9sVvuO9hLA",
    "outputId": "4ecefcde-e837-4c47-8a93-b3519d109cb6"
   },
   "outputs": [
    {
     "data": {
      "text/plain": [
       "book_id\n",
       "1       False\n",
       "2       False\n",
       "3       False\n",
       "6       False\n",
       "12      False\n",
       "        ...  \n",
       "9925    False\n",
       "9937    False\n",
       "9942    False\n",
       "9947    False\n",
       "9955    False\n",
       "Length: 1153, dtype: bool"
      ]
     },
     "execution_count": 11,
     "metadata": {},
     "output_type": "execute_result"
    }
   ],
   "source": [
    "df.duplicated()"
   ]
  },
  {
   "cell_type": "code",
   "execution_count": 12,
   "metadata": {
    "colab": {
     "base_uri": "https://localhost:8080/",
     "height": 857
    },
    "id": "R22fS7M-9_Hw",
    "outputId": "1bd0d254-db43-4a2f-d128-3a5232108a7a"
   },
   "outputs": [
    {
     "data": {
      "text/html": [
       "<div>\n",
       "<style scoped>\n",
       "    .dataframe tbody tr th:only-of-type {\n",
       "        vertical-align: middle;\n",
       "    }\n",
       "\n",
       "    .dataframe tbody tr th {\n",
       "        vertical-align: top;\n",
       "    }\n",
       "\n",
       "    .dataframe thead th {\n",
       "        text-align: right;\n",
       "    }\n",
       "</style>\n",
       "<table border=\"1\" class=\"dataframe\">\n",
       "  <thead>\n",
       "    <tr style=\"text-align: right;\">\n",
       "      <th></th>\n",
       "      <th>authors</th>\n",
       "      <th>original_publication_year</th>\n",
       "      <th>title</th>\n",
       "      <th>average_rating</th>\n",
       "      <th>ratings_count</th>\n",
       "      <th>ratings_1</th>\n",
       "      <th>ratings_2</th>\n",
       "      <th>ratings_3</th>\n",
       "      <th>ratings_4</th>\n",
       "      <th>ratings_5</th>\n",
       "    </tr>\n",
       "    <tr>\n",
       "      <th>book_id</th>\n",
       "      <th></th>\n",
       "      <th></th>\n",
       "      <th></th>\n",
       "      <th></th>\n",
       "      <th></th>\n",
       "      <th></th>\n",
       "      <th></th>\n",
       "      <th></th>\n",
       "      <th></th>\n",
       "      <th></th>\n",
       "    </tr>\n",
       "  </thead>\n",
       "  <tbody>\n",
       "    <tr>\n",
       "      <th>1</th>\n",
       "      <td>Suzanne Collins</td>\n",
       "      <td>2008</td>\n",
       "      <td>The Hunger Games (The Hunger Games, #1)</td>\n",
       "      <td>4.34</td>\n",
       "      <td>4780653</td>\n",
       "      <td>66715</td>\n",
       "      <td>127936</td>\n",
       "      <td>560092</td>\n",
       "      <td>1481305</td>\n",
       "      <td>2706317</td>\n",
       "    </tr>\n",
       "    <tr>\n",
       "      <th>2</th>\n",
       "      <td>J.K. Rowling, Mary GrandPré</td>\n",
       "      <td>1997</td>\n",
       "      <td>Harry Potter and the Sorcerer's Stone (Harry P...</td>\n",
       "      <td>4.44</td>\n",
       "      <td>4602479</td>\n",
       "      <td>75504</td>\n",
       "      <td>101676</td>\n",
       "      <td>455024</td>\n",
       "      <td>1156318</td>\n",
       "      <td>3011543</td>\n",
       "    </tr>\n",
       "    <tr>\n",
       "      <th>3</th>\n",
       "      <td>Stephenie Meyer</td>\n",
       "      <td>2005</td>\n",
       "      <td>Twilight (Twilight, #1)</td>\n",
       "      <td>3.57</td>\n",
       "      <td>3866839</td>\n",
       "      <td>456191</td>\n",
       "      <td>436802</td>\n",
       "      <td>793319</td>\n",
       "      <td>875073</td>\n",
       "      <td>1355439</td>\n",
       "    </tr>\n",
       "    <tr>\n",
       "      <th>6</th>\n",
       "      <td>John Green</td>\n",
       "      <td>2012</td>\n",
       "      <td>The Fault in Our Stars</td>\n",
       "      <td>4.26</td>\n",
       "      <td>2346404</td>\n",
       "      <td>47994</td>\n",
       "      <td>92723</td>\n",
       "      <td>327550</td>\n",
       "      <td>698471</td>\n",
       "      <td>1311871</td>\n",
       "    </tr>\n",
       "    <tr>\n",
       "      <th>12</th>\n",
       "      <td>Veronica Roth</td>\n",
       "      <td>2011</td>\n",
       "      <td>Divergent (Divergent, #1)</td>\n",
       "      <td>4.24</td>\n",
       "      <td>1903563</td>\n",
       "      <td>36315</td>\n",
       "      <td>82870</td>\n",
       "      <td>310297</td>\n",
       "      <td>673028</td>\n",
       "      <td>1114304</td>\n",
       "    </tr>\n",
       "    <tr>\n",
       "      <th>...</th>\n",
       "      <td>...</td>\n",
       "      <td>...</td>\n",
       "      <td>...</td>\n",
       "      <td>...</td>\n",
       "      <td>...</td>\n",
       "      <td>...</td>\n",
       "      <td>...</td>\n",
       "      <td>...</td>\n",
       "      <td>...</td>\n",
       "      <td>...</td>\n",
       "    </tr>\n",
       "    <tr>\n",
       "      <th>9925</th>\n",
       "      <td>Mary Hoffman</td>\n",
       "      <td>2002</td>\n",
       "      <td>City of Masks (Stravaganza, #1)</td>\n",
       "      <td>3.90</td>\n",
       "      <td>12048</td>\n",
       "      <td>314</td>\n",
       "      <td>758</td>\n",
       "      <td>3154</td>\n",
       "      <td>4872</td>\n",
       "      <td>4287</td>\n",
       "    </tr>\n",
       "    <tr>\n",
       "      <th>9937</th>\n",
       "      <td>Caragh M. O'Brien</td>\n",
       "      <td>2012</td>\n",
       "      <td>Promised (Birthmarked, #3)</td>\n",
       "      <td>3.77</td>\n",
       "      <td>11766</td>\n",
       "      <td>256</td>\n",
       "      <td>1098</td>\n",
       "      <td>3565</td>\n",
       "      <td>4392</td>\n",
       "      <td>3573</td>\n",
       "    </tr>\n",
       "    <tr>\n",
       "      <th>9942</th>\n",
       "      <td>Abigail Haas, Abby McDonald</td>\n",
       "      <td>2013</td>\n",
       "      <td>Dangerous Girls</td>\n",
       "      <td>4.14</td>\n",
       "      <td>10439</td>\n",
       "      <td>203</td>\n",
       "      <td>553</td>\n",
       "      <td>2029</td>\n",
       "      <td>4567</td>\n",
       "      <td>5618</td>\n",
       "    </tr>\n",
       "    <tr>\n",
       "      <th>9947</th>\n",
       "      <td>Maria Dahvana Headley</td>\n",
       "      <td>2015</td>\n",
       "      <td>Magonia (Magonia, #1)</td>\n",
       "      <td>3.60</td>\n",
       "      <td>12510</td>\n",
       "      <td>577</td>\n",
       "      <td>1440</td>\n",
       "      <td>3881</td>\n",
       "      <td>4772</td>\n",
       "      <td>2982</td>\n",
       "    </tr>\n",
       "    <tr>\n",
       "      <th>9955</th>\n",
       "      <td>Simone Elkeles</td>\n",
       "      <td>2013</td>\n",
       "      <td>Wild Cards (Wild Cards, #1)</td>\n",
       "      <td>3.95</td>\n",
       "      <td>13954</td>\n",
       "      <td>406</td>\n",
       "      <td>965</td>\n",
       "      <td>3331</td>\n",
       "      <td>5038</td>\n",
       "      <td>5660</td>\n",
       "    </tr>\n",
       "  </tbody>\n",
       "</table>\n",
       "<p>1153 rows × 10 columns</p>\n",
       "</div>"
      ],
      "text/plain": [
       "                             authors  original_publication_year  \\\n",
       "book_id                                                           \n",
       "1                    Suzanne Collins                       2008   \n",
       "2        J.K. Rowling, Mary GrandPré                       1997   \n",
       "3                    Stephenie Meyer                       2005   \n",
       "6                         John Green                       2012   \n",
       "12                     Veronica Roth                       2011   \n",
       "...                              ...                        ...   \n",
       "9925                    Mary Hoffman                       2002   \n",
       "9937               Caragh M. O'Brien                       2012   \n",
       "9942     Abigail Haas, Abby McDonald                       2013   \n",
       "9947           Maria Dahvana Headley                       2015   \n",
       "9955                  Simone Elkeles                       2013   \n",
       "\n",
       "                                                     title  average_rating  \\\n",
       "book_id                                                                      \n",
       "1                  The Hunger Games (The Hunger Games, #1)            4.34   \n",
       "2        Harry Potter and the Sorcerer's Stone (Harry P...            4.44   \n",
       "3                                  Twilight (Twilight, #1)            3.57   \n",
       "6                                   The Fault in Our Stars            4.26   \n",
       "12                               Divergent (Divergent, #1)            4.24   \n",
       "...                                                    ...             ...   \n",
       "9925                       City of Masks (Stravaganza, #1)            3.90   \n",
       "9937                            Promised (Birthmarked, #3)            3.77   \n",
       "9942                                       Dangerous Girls            4.14   \n",
       "9947                                 Magonia (Magonia, #1)            3.60   \n",
       "9955                           Wild Cards (Wild Cards, #1)            3.95   \n",
       "\n",
       "         ratings_count  ratings_1  ratings_2  ratings_3  ratings_4  ratings_5  \n",
       "book_id                                                                        \n",
       "1              4780653      66715     127936     560092    1481305    2706317  \n",
       "2              4602479      75504     101676     455024    1156318    3011543  \n",
       "3              3866839     456191     436802     793319     875073    1355439  \n",
       "6              2346404      47994      92723     327550     698471    1311871  \n",
       "12             1903563      36315      82870     310297     673028    1114304  \n",
       "...                ...        ...        ...        ...        ...        ...  \n",
       "9925             12048        314        758       3154       4872       4287  \n",
       "9937             11766        256       1098       3565       4392       3573  \n",
       "9942             10439        203        553       2029       4567       5618  \n",
       "9947             12510        577       1440       3881       4772       2982  \n",
       "9955             13954        406        965       3331       5038       5660  \n",
       "\n",
       "[1153 rows x 10 columns]"
      ]
     },
     "execution_count": 12,
     "metadata": {},
     "output_type": "execute_result"
    }
   ],
   "source": [
    "df_cols=['authors','original_publication_year','title','average_rating','ratings_count','ratings_1','ratings_2','ratings_3','ratings_4','ratings_5']\n",
    "df=df[df_cols]\n",
    "df"
   ]
  },
  {
   "cell_type": "code",
   "execution_count": 15,
   "metadata": {
    "colab": {
     "base_uri": "https://localhost:8080/",
     "height": 141
    },
    "id": "kzrFyYv3AKVV",
    "outputId": "107b9f29-cbc3-47b9-ded6-c4d22b199446"
   },
   "outputs": [
    {
     "data": {
      "text/html": [
       "<div>\n",
       "<style scoped>\n",
       "    .dataframe tbody tr th:only-of-type {\n",
       "        vertical-align: middle;\n",
       "    }\n",
       "\n",
       "    .dataframe tbody tr th {\n",
       "        vertical-align: top;\n",
       "    }\n",
       "\n",
       "    .dataframe thead th {\n",
       "        text-align: right;\n",
       "    }\n",
       "</style>\n",
       "<table border=\"1\" class=\"dataframe\">\n",
       "  <thead>\n",
       "    <tr style=\"text-align: right;\">\n",
       "      <th></th>\n",
       "      <th>authors</th>\n",
       "      <th>original_publication_year</th>\n",
       "      <th>title</th>\n",
       "      <th>average_rating</th>\n",
       "      <th>ratings_count</th>\n",
       "      <th>ratings_1</th>\n",
       "      <th>ratings_2</th>\n",
       "      <th>ratings_3</th>\n",
       "      <th>ratings_4</th>\n",
       "      <th>ratings_5</th>\n",
       "    </tr>\n",
       "    <tr>\n",
       "      <th>book_id</th>\n",
       "      <th></th>\n",
       "      <th></th>\n",
       "      <th></th>\n",
       "      <th></th>\n",
       "      <th></th>\n",
       "      <th></th>\n",
       "      <th></th>\n",
       "      <th></th>\n",
       "      <th></th>\n",
       "      <th></th>\n",
       "    </tr>\n",
       "  </thead>\n",
       "  <tbody>\n",
       "    <tr>\n",
       "      <th>2</th>\n",
       "      <td>J.K. Rowling, Mary GrandPré</td>\n",
       "      <td>1997</td>\n",
       "      <td>Harry Potter and the Sorcerer's Stone (Harry P...</td>\n",
       "      <td>4.44</td>\n",
       "      <td>4602479</td>\n",
       "      <td>75504</td>\n",
       "      <td>101676</td>\n",
       "      <td>455024</td>\n",
       "      <td>1156318</td>\n",
       "      <td>3011543</td>\n",
       "    </tr>\n",
       "    <tr>\n",
       "      <th>18</th>\n",
       "      <td>J.K. Rowling, Mary GrandPré, Rufus Beck</td>\n",
       "      <td>1999</td>\n",
       "      <td>Harry Potter and the Prisoner of Azkaban (Harr...</td>\n",
       "      <td>4.53</td>\n",
       "      <td>1832823</td>\n",
       "      <td>6716</td>\n",
       "      <td>20413</td>\n",
       "      <td>166129</td>\n",
       "      <td>509447</td>\n",
       "      <td>1266670</td>\n",
       "    </tr>\n",
       "    <tr>\n",
       "      <th>21</th>\n",
       "      <td>J.K. Rowling, Mary GrandPré</td>\n",
       "      <td>2003</td>\n",
       "      <td>Harry Potter and the Order of the Phoenix (Har...</td>\n",
       "      <td>4.46</td>\n",
       "      <td>1735368</td>\n",
       "      <td>9528</td>\n",
       "      <td>31577</td>\n",
       "      <td>180210</td>\n",
       "      <td>494427</td>\n",
       "      <td>1124806</td>\n",
       "    </tr>\n",
       "    <tr>\n",
       "      <th>23</th>\n",
       "      <td>J.K. Rowling, Mary GrandPré</td>\n",
       "      <td>1998</td>\n",
       "      <td>Harry Potter and the Chamber of Secrets (Harry...</td>\n",
       "      <td>4.37</td>\n",
       "      <td>1779331</td>\n",
       "      <td>8253</td>\n",
       "      <td>42251</td>\n",
       "      <td>242345</td>\n",
       "      <td>548266</td>\n",
       "      <td>1065084</td>\n",
       "    </tr>\n",
       "    <tr>\n",
       "      <th>24</th>\n",
       "      <td>J.K. Rowling, Mary GrandPré</td>\n",
       "      <td>2000</td>\n",
       "      <td>Harry Potter and the Goblet of Fire (Harry Pot...</td>\n",
       "      <td>4.53</td>\n",
       "      <td>1753043</td>\n",
       "      <td>6676</td>\n",
       "      <td>20210</td>\n",
       "      <td>151785</td>\n",
       "      <td>494926</td>\n",
       "      <td>1195045</td>\n",
       "    </tr>\n",
       "    <tr>\n",
       "      <th>25</th>\n",
       "      <td>J.K. Rowling, Mary GrandPré</td>\n",
       "      <td>2007</td>\n",
       "      <td>Harry Potter and the Deathly Hallows (Harry Po...</td>\n",
       "      <td>4.61</td>\n",
       "      <td>1746574</td>\n",
       "      <td>9363</td>\n",
       "      <td>22245</td>\n",
       "      <td>113646</td>\n",
       "      <td>383914</td>\n",
       "      <td>1318227</td>\n",
       "    </tr>\n",
       "    <tr>\n",
       "      <th>27</th>\n",
       "      <td>J.K. Rowling, Mary GrandPré</td>\n",
       "      <td>2005</td>\n",
       "      <td>Harry Potter and the Half-Blood Prince (Harry ...</td>\n",
       "      <td>4.54</td>\n",
       "      <td>1678823</td>\n",
       "      <td>7308</td>\n",
       "      <td>21516</td>\n",
       "      <td>136333</td>\n",
       "      <td>459028</td>\n",
       "      <td>1161491</td>\n",
       "    </tr>\n",
       "    <tr>\n",
       "      <th>422</th>\n",
       "      <td>J.K. Rowling</td>\n",
       "      <td>1998</td>\n",
       "      <td>Harry Potter Boxset (Harry Potter, #1-7)</td>\n",
       "      <td>4.74</td>\n",
       "      <td>190050</td>\n",
       "      <td>1105</td>\n",
       "      <td>1285</td>\n",
       "      <td>7020</td>\n",
       "      <td>30666</td>\n",
       "      <td>164049</td>\n",
       "    </tr>\n",
       "    <tr>\n",
       "      <th>3753</th>\n",
       "      <td>J.K. Rowling</td>\n",
       "      <td>2005</td>\n",
       "      <td>Harry Potter Collection (Harry Potter, #1-6)</td>\n",
       "      <td>4.73</td>\n",
       "      <td>24618</td>\n",
       "      <td>203</td>\n",
       "      <td>186</td>\n",
       "      <td>946</td>\n",
       "      <td>3891</td>\n",
       "      <td>21048</td>\n",
       "    </tr>\n",
       "    <tr>\n",
       "      <th>7018</th>\n",
       "      <td>David Colbert</td>\n",
       "      <td>2001</td>\n",
       "      <td>The Magical Worlds of Harry Potter: A Treasury...</td>\n",
       "      <td>3.96</td>\n",
       "      <td>13820</td>\n",
       "      <td>329</td>\n",
       "      <td>1125</td>\n",
       "      <td>3766</td>\n",
       "      <td>3593</td>\n",
       "      <td>6332</td>\n",
       "    </tr>\n",
       "  </tbody>\n",
       "</table>\n",
       "</div>"
      ],
      "text/plain": [
       "                                         authors  original_publication_year  \\\n",
       "book_id                                                                       \n",
       "2                    J.K. Rowling, Mary GrandPré                       1997   \n",
       "18       J.K. Rowling, Mary GrandPré, Rufus Beck                       1999   \n",
       "21                   J.K. Rowling, Mary GrandPré                       2003   \n",
       "23                   J.K. Rowling, Mary GrandPré                       1998   \n",
       "24                   J.K. Rowling, Mary GrandPré                       2000   \n",
       "25                   J.K. Rowling, Mary GrandPré                       2007   \n",
       "27                   J.K. Rowling, Mary GrandPré                       2005   \n",
       "422                                 J.K. Rowling                       1998   \n",
       "3753                                J.K. Rowling                       2005   \n",
       "7018                               David Colbert                       2001   \n",
       "\n",
       "                                                     title  average_rating  \\\n",
       "book_id                                                                      \n",
       "2        Harry Potter and the Sorcerer's Stone (Harry P...            4.44   \n",
       "18       Harry Potter and the Prisoner of Azkaban (Harr...            4.53   \n",
       "21       Harry Potter and the Order of the Phoenix (Har...            4.46   \n",
       "23       Harry Potter and the Chamber of Secrets (Harry...            4.37   \n",
       "24       Harry Potter and the Goblet of Fire (Harry Pot...            4.53   \n",
       "25       Harry Potter and the Deathly Hallows (Harry Po...            4.61   \n",
       "27       Harry Potter and the Half-Blood Prince (Harry ...            4.54   \n",
       "422               Harry Potter Boxset (Harry Potter, #1-7)            4.74   \n",
       "3753          Harry Potter Collection (Harry Potter, #1-6)            4.73   \n",
       "7018     The Magical Worlds of Harry Potter: A Treasury...            3.96   \n",
       "\n",
       "         ratings_count  ratings_1  ratings_2  ratings_3  ratings_4  ratings_5  \n",
       "book_id                                                                        \n",
       "2              4602479      75504     101676     455024    1156318    3011543  \n",
       "18             1832823       6716      20413     166129     509447    1266670  \n",
       "21             1735368       9528      31577     180210     494427    1124806  \n",
       "23             1779331       8253      42251     242345     548266    1065084  \n",
       "24             1753043       6676      20210     151785     494926    1195045  \n",
       "25             1746574       9363      22245     113646     383914    1318227  \n",
       "27             1678823       7308      21516     136333     459028    1161491  \n",
       "422             190050       1105       1285       7020      30666     164049  \n",
       "3753             24618        203        186        946       3891      21048  \n",
       "7018             13820        329       1125       3766       3593       6332  "
      ]
     },
     "execution_count": 15,
     "metadata": {},
     "output_type": "execute_result"
    }
   ],
   "source": [
    "# Filter dataset to include only Harry Potter books\n",
    "harry_potter_df = df[ df['title'].str.contains('Harry Potter')]\n",
    "harry_potter_df"
   ]
  },
  {
   "cell_type": "code",
   "execution_count": 16,
   "metadata": {
    "colab": {
     "base_uri": "https://localhost:8080/"
    },
    "id": "GtU-83IC9_tl",
    "outputId": "4ce30a90-0f5a-4f9c-83c1-d5c8c0201163"
   },
   "outputs": [
    {
     "data": {
      "text/plain": [
       "(10, 10)"
      ]
     },
     "execution_count": 16,
     "metadata": {},
     "output_type": "execute_result"
    }
   ],
   "source": [
    "harry_potter_df.shape"
   ]
  },
  {
   "cell_type": "code",
   "execution_count": 17,
   "metadata": {
    "colab": {
     "base_uri": "https://localhost:8080/",
     "height": 430
    },
    "id": "uxG7f-DhBeMh",
    "outputId": "a3cc4961-d976-4e22-8052-5cb21b2a8f80"
   },
   "outputs": [
    {
     "data": {
      "image/png": "[encoded data removed]",
      "text/plain": [
       "<Figure size 640x480 with 1 Axes>"
      ]
     },
     "metadata": {},
     "output_type": "display_data"
    }
   ],
   "source": [
    "harry_potter_df.groupby('authors').size().plot(kind='barh', color=sns.palettes.mpl_palette('Dark2'))\n",
    "plt.gca().spines[['top', 'right',]].set_visible(False)"
   ]
  },
  {
   "cell_type": "code",
   "execution_count": 18,
   "metadata": {
    "colab": {
     "base_uri": "https://localhost:8080/",
     "height": 452
    },
    "id": "T4_GAf1LBZkA",
    "outputId": "051e87f5-4d49-4b0d-f868-d101820538d6"
   },
   "outputs": [
    {
     "name": "stdout",
     "output_type": "stream",
     "text": [
      "\n",
      "Average rating of Harry Potter books: 4.4910000000000005\n"
     ]
    },
    {
     "data": {
      "image/png": "[encoded data removed]",
      "text/plain": [
       "<Figure size 640x480 with 1 Axes>"
      ]
     },
     "metadata": {},
     "output_type": "display_data"
    }
   ],
   "source": [
    "harry_potter_df['average_rating'].plot(kind='hist', bins=20, title='average_rating')\n",
    "plt.gca().spines[['top', 'right',]].set_visible(False)\n",
    "# Average rating of Harry Potter books\n",
    "average_rating_harry_potter = harry_potter_df['average_rating'].mean()\n",
    "print(\"\\nAverage rating of Harry Potter books:\", average_rating_harry_potter)\n"
   ]
  },
  {
   "cell_type": "code",
   "execution_count": 19,
   "metadata": {
    "colab": {
     "base_uri": "https://localhost:8080/",
     "height": 452
    },
    "id": "OagfYeY4BLPh",
    "outputId": "9c45a70f-6702-4bb4-b41a-5fb6e481cdd6"
   },
   "outputs": [
    {
     "data": {
      "image/png": "[encoded data removed]",
      "text/plain": [
       "<Figure size 640x480 with 1 Axes>"
      ]
     },
     "metadata": {},
     "output_type": "display_data"
    }
   ],
   "source": [
    "harry_potter_df['original_publication_year'].plot(kind='hist', bins=20, title='original_publication_year')\n",
    "plt.gca().spines[['top', 'right',]].set_visible(False)"
   ]
  },
  {
   "cell_type": "code",
   "execution_count": 20,
   "metadata": {
    "colab": {
     "base_uri": "https://localhost:8080/",
     "height": 470
    },
    "id": "Eat55d3JAbZu",
    "outputId": "29f54da2-f517-46d7-ab74-7b9fdc8891c9"
   },
   "outputs": [
    {
     "data": {
      "image/png": "[encoded data removed]",
      "text/plain": [
       "<Figure size 640x480 with 1 Axes>"
      ]
     },
     "metadata": {},
     "output_type": "display_data"
    }
   ],
   "source": [
    "harry_potter_df['ratings_count'].plot(kind='hist', bins=20, title='ratings_count')\n",
    "plt.gca().spines[['top', 'right',]].set_visible(False)"
   ]
  },
  {
   "cell_type": "code",
   "execution_count": 21,
   "metadata": {
    "colab": {
     "base_uri": "https://localhost:8080/",
     "height": 633
    },
    "id": "jPnLCm2XARfs",
    "outputId": "66e31c2b-a03a-499f-96f2-7fe69776e1cc"
   },
   "outputs": [
    {
     "data": {
      "image/png": "[encoded data removed]",
      "text/plain": [
       "<Figure size 1000x600 with 1 Axes>"
      ]
     },
     "metadata": {},
     "output_type": "display_data"
    },
    {
     "name": "stdout",
     "output_type": "stream",
     "text": [
      "Most Selling Harry Potter Book:\n",
      "title            Harry Potter and the Sorcerer's Stone (Harry P...\n",
      "ratings_count                                              4602479\n",
      "Name: 2, dtype: object\n"
     ]
    }
   ],
   "source": [
    "# The most selling Harry Potter book\n",
    "most_selling_harry_potter = harry_potter_df.loc[harry_potter_df['ratings_count'].idxmax()]\n",
    "\n",
    "# Bar plot to visualize the most selling Harry Potter book\n",
    "plt.figure(figsize=(10, 6))\n",
    "plt.bar(most_selling_harry_potter['title'], most_selling_harry_potter['ratings_count'], color='skyblue')\n",
    "plt.title('Most Selling Harry Potter Book')\n",
    "plt.xlabel('Book Title')\n",
    "plt.ylabel('Ratings Count')\n",
    "plt.xticks(rotation=0)\n",
    "plt.show()\n",
    "\n",
    "# Display the most selling Harry Potter book\n",
    "print(\"Most Selling Harry Potter Book:\")\n",
    "print(most_selling_harry_potter[['title', 'ratings_count']])\n"
   ]
  },
  {
   "cell_type": "code",
   "execution_count": 22,
   "metadata": {
    "colab": {
     "base_uri": "https://localhost:8080/",
     "height": 691
    },
    "id": "vQAehYhl_RDI",
    "outputId": "eae81df7-3731-46c3-b396-71efc6257d36"
   },
   "outputs": [
    {
     "name": "stderr",
     "output_type": "stream",
     "text": [
      "C:\\Users\\LENOVO\\Anaconda\\Lib\\site-packages\\seaborn\\_oldcore.py:1765: FutureWarning: unique with argument that is not not a Series, Index, ExtensionArray, or np.ndarray is deprecated and will raise in a future version.\n",
      "  order = pd.unique(vector)\n"
     ]
    },
    {
     "data": {
      "image/png": "[encoded data removed]",
      "text/plain": [
       "<Figure size 1200x600 with 1 Axes>"
      ]
     },
     "metadata": {},
     "output_type": "display_data"
    }
   ],
   "source": [
    "# Extract titles and remove subtitle information\n",
    "titles = harry_potter_df['title'].tolist()\n",
    "titles = [title[:title.find(' (')] for title in titles]\n",
    "\n",
    "# Calculate  average rating\n",
    "weighted_avg = (harry_potter_df['average_rating'] * harry_potter_df['ratings_count']).sum() / harry_potter_df['ratings_count'].sum()\n",
    "\n",
    "# Visualize average rating for Harry Potter book series\n",
    "sns.set_style(\"whitegrid\")\n",
    "plt.figure(figsize=(12, 6))\n",
    "sns.barplot(x=titles, y=harry_potter_df['average_rating'], palette=\"viridis\")\n",
    "plt.xlabel('Title', fontsize=12)\n",
    "plt.ylabel('Average Rating', fontsize=12)\n",
    "plt.ylim((4.3, 4.7))\n",
    "plt.hlines(weighted_avg, xmin=-1, xmax=len(titles), color='blue', linestyles='dashdot', label='Total Average Rating')\n",
    "plt.title('Average Rating for Harry Potter Book Series', fontsize=14)\n",
    "plt.xticks(rotation=45, ha='right')\n",
    "plt.tight_layout()\n",
    "plt.legend()\n",
    "plt.show()\n",
    "\n"
   ]
  },
  {
   "cell_type": "code",
   "execution_count": 23,
   "metadata": {
    "colab": {
     "base_uri": "https://localhost:8080/",
     "height": 564
    },
    "id": "seIZIZ43C9Pl",
    "outputId": "15d23f02-a586-4bfb-8f34-e0f333a12f10"
   },
   "outputs": [
    {
     "data": {
      "image/png": "[encoded data removed]",
      "text/plain": [
       "<Figure size 1000x600 with 1 Axes>"
      ]
     },
     "metadata": {},
     "output_type": "display_data"
    }
   ],
   "source": [
    "# Ratings distributions for each rating\n",
    "plt.figure(figsize=(10, 6))\n",
    "\n",
    "\n",
    "colors = ['blue', 'orange', 'green', 'red', 'purple']\n",
    "\n",
    "# Plot histogram for ratings distribution\n",
    "ratings_counts = [\n",
    "    harry_potter_df['ratings_1'].sum(),\n",
    "    harry_potter_df['ratings_2'].sum(),\n",
    "    harry_potter_df['ratings_3'].sum(),\n",
    "    harry_potter_df['ratings_4'].sum(),\n",
    "    harry_potter_df['ratings_5'].sum()\n",
    "]\n",
    "plt.bar(range(1, 6), ratings_counts, color=colors)\n",
    "\n",
    "plt.title('Ratings Distribution of Harry Potter Books')\n",
    "plt.xlabel('Rating')\n",
    "plt.ylabel('Number of Books')\n",
    "plt.xticks(range(1, 6))\n",
    "plt.show()\n"
   ]
  }
 ],
 "metadata": {
  "colab": {
   "provenance": []
  },
  "kernelspec": {
   "display_name": "Python 3 (ipykernel)",
   "language": "python",
   "name": "python3"
  },
  "language_info": {
   "codemirror_mode": {
    "name": "ipython",
    "version": 3
   },
   "file_extension": ".py",
   "mimetype": "text/x-python",
   "name": "python",
   "nbconvert_exporter": "python",
   "pygments_lexer": "ipython3",
   "version": "3.11.7"
  }
 },
 "nbformat": 4,
 "nbformat_minor": 4
}
